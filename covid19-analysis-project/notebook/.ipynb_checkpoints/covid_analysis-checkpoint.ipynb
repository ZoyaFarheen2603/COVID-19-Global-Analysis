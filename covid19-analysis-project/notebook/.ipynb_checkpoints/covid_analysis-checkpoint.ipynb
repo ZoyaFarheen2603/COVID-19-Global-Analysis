{
 "cells": [
  {
   "cell_type": "markdown",
   "metadata": {},
   "source": [
    "df = pd.read_csv('covid_19_data.csv')\n",
    "df.head()\n",
    "\n"
   ]
  }
 ],
 "metadata": {
  "kernelspec": {
   "display_name": "Python 3",
   "language": "python",
   "name": "python3"
  },
  "language_info": {
   "name": "python",
   "version": "3.12.4"
  }
 },
 "nbformat": 4,
 "nbformat_minor": 2
}
